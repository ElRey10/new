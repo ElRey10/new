{
  "nbformat": 4,
  "nbformat_minor": 0,
  "metadata": {
    "kernelspec": {
      "display_name": "Python 3",
      "language": "python",
      "name": "python3"
    },
    "language_info": {
      "codemirror_mode": {
        "name": "ipython",
        "version": 3
      },
      "file_extension": ".py",
      "mimetype": "text/x-python",
      "name": "python",
      "nbconvert_exporter": "python",
      "pygments_lexer": "ipython3",
      "version": "3.7.6"
    },
    "colab": {
      "name": "assignment2.ipynb",
      "provenance": [],
      "include_colab_link": true
    }
  },
  "cells": [
    {
      "cell_type": "markdown",
      "metadata": {
        "id": "view-in-github",
        "colab_type": "text"
      },
      "source": [
        "<a href=\"https://colab.research.google.com/github/ElRey10/new/blob/master/pythonnote.ipynb\" target=\"_parent\"><img src=\"https://colab.research.google.com/assets/colab-badge.svg\" alt=\"Open In Colab\"/></a>"
      ]
    },
    {
      "cell_type": "code",
      "metadata": {
        "id": "nnCg5tjP6UlV",
        "colab_type": "code",
        "outputId": "5e594638-8041-48b1-d16b-aa048f57ad6e",
        "colab": {
          "base_uri": "https://localhost:8080/",
          "height": 50
        }
      },
      "source": [
        "#assign1\n",
        "#File Read write\n",
        "file = open('a.txt','w')\n",
        "file.write(\"I love FCS\\n\")\n",
        "file.close()\n",
        "file = open('a.txt', 'r') \n",
        "print (file.read())"
      ],
      "execution_count": 0,
      "outputs": [
        {
          "output_type": "stream",
          "text": [
            "I love FCS\n",
            "\n"
          ],
          "name": "stdout"
        }
      ]
    },
    {
      "cell_type": "code",
      "metadata": {
        "id": "mW14CYGm6Uli",
        "colab_type": "code",
        "outputId": "35c1ba41-eae4-4ec0-d3cf-a1817ad9b42b",
        "colab": {
          "base_uri": "https://localhost:8080/",
          "height": 50
        }
      },
      "source": [
        "#assign2\n",
        "#GRADES\n",
        "a=int(input(\"Enter Mark:\"))\n",
        "if(a>=90 and a<100):\n",
        "    print(\"A\")\n",
        "elif(a>=80 and a<90):\n",
        "    print(\"B\")\n",
        "elif(a>=70 and a<80):\n",
        "    print(\"C\")\n",
        "elif(a>=60 and a<70):\n",
        "    print(\"D\")\n",
        "elif(a>=50 and a<60):\n",
        "    print(\"E\")\n",
        "elif(a<50 and a>=0):\n",
        "    print(\"FAIL\")\n",
        "else:\n",
        "    print(\"Out of range\")"
      ],
      "execution_count": 0,
      "outputs": [
        {
          "output_type": "stream",
          "text": [
            "Enter Mark:45\n",
            "FAIL\n"
          ],
          "name": "stdout"
        }
      ]
    },
    {
      "cell_type": "code",
      "metadata": {
        "id": "eEco0ww_6Ulp",
        "colab_type": "code",
        "outputId": "2f2fedd8-8108-4929-afaf-57803b60864b",
        "colab": {
          "base_uri": "https://localhost:8080/",
          "height": 67
        }
      },
      "source": [
        "#assign3\n",
        "#cricket predict\n",
        "import random\n",
        "a=input(\"Enter Your Score:\")\n",
        "b=random.randrange(1,251)\n",
        "c=int(b)-int(a)\n",
        "print(\"PCs Score : \", b)\n",
        "if(int(a)<1 or int(a)>250):\n",
        "    print(\"Reduce your expectation for 20-20 Cricket\")\n",
        "elif(c<10):\n",
        "    print(\"Close By, you are True Indian Fan!  \")\n",
        "elif(c>10):\n",
        "    print(\"You don't watch that much! :P \")\n",
        "\n"
      ],
      "execution_count": 0,
      "outputs": [
        {
          "output_type": "stream",
          "text": [
            "Enter Your Score:34\n",
            "PCs Score :  33\n",
            "Close By, you are True Indian Fan!  \n"
          ],
          "name": "stdout"
        }
      ]
    },
    {
      "cell_type": "code",
      "metadata": {
        "id": "5l4-yKB-6Ulw",
        "colab_type": "code",
        "outputId": "2c4d94e5-049e-4b8e-e991-8593470fd421",
        "colab": {
          "base_uri": "https://localhost:8080/",
          "height": 296
        }
      },
      "source": [
        "#assign4\n",
        "#facebook photo upload\n",
        "s=input(\"Size of a side: \")\n",
        "n=input(\"Number of photos:\")\n",
        "while True:\n",
        "    w=input(\"width:\")\n",
        "    h=input(\"height:\")\n",
        "    if(s==w and s==h):\n",
        "            print(\"ACCEPTED\")\n",
        "            i=input(\"enter 1 to exit\")\n",
        "            i=int(i)\n",
        "    elif(h>s or w >s):\n",
        "            print(\"CROP IT\")\n",
        "            i=input(\"enter 1 to exit\")\n",
        "            i=int(i)\n",
        "    elif(h<s or w >s):\n",
        "            print(\"UPLOAD ANOTHER\")\n",
        "            i=input(\"enter 1 to exit\")\n",
        "            i=int(i)\n",
        "    \n",
        "    if(i==1):\n",
        "        break\n",
        "           \n"
      ],
      "execution_count": 0,
      "outputs": [
        {
          "output_type": "stream",
          "text": [
            "Size of a side: 3\n",
            "Number of photos:4\n",
            "width:\n",
            "height:3\n"
          ],
          "name": "stdout"
        },
        {
          "output_type": "error",
          "ename": "NameError",
          "evalue": "ignored",
          "traceback": [
            "\u001b[0;31m---------------------------------------------------------------------------\u001b[0m",
            "\u001b[0;31mNameError\u001b[0m                                 Traceback (most recent call last)",
            "\u001b[0;32m<ipython-input-4-9afb1a1bfd2c>\u001b[0m in \u001b[0;36m<module>\u001b[0;34m()\u001b[0m\n\u001b[1;32m     17\u001b[0m             \u001b[0mi\u001b[0m\u001b[0;34m=\u001b[0m\u001b[0mint\u001b[0m\u001b[0;34m(\u001b[0m\u001b[0mi\u001b[0m\u001b[0;34m)\u001b[0m\u001b[0;34m\u001b[0m\u001b[0;34m\u001b[0m\u001b[0m\n\u001b[1;32m     18\u001b[0m \u001b[0;34m\u001b[0m\u001b[0m\n\u001b[0;32m---> 19\u001b[0;31m     \u001b[0;32mif\u001b[0m\u001b[0;34m(\u001b[0m\u001b[0mi\u001b[0m\u001b[0;34m==\u001b[0m\u001b[0;36m1\u001b[0m\u001b[0;34m)\u001b[0m\u001b[0;34m:\u001b[0m\u001b[0;34m\u001b[0m\u001b[0;34m\u001b[0m\u001b[0m\n\u001b[0m\u001b[1;32m     20\u001b[0m         \u001b[0;32mbreak\u001b[0m\u001b[0;34m\u001b[0m\u001b[0;34m\u001b[0m\u001b[0m\n\u001b[1;32m     21\u001b[0m \u001b[0;34m\u001b[0m\u001b[0m\n",
            "\u001b[0;31mNameError\u001b[0m: name 'i' is not defined"
          ]
        }
      ]
    },
    {
      "cell_type": "code",
      "metadata": {
        "id": "neXOgSW46Ul3",
        "colab_type": "code",
        "outputId": "48e3134a-7c2b-48e4-f585-72d0e61b88fa",
        "colab": {
          "base_uri": "https://localhost:8080/",
          "height": 84
        }
      },
      "source": [
        "#assign5\n",
        "#maze game\n",
        "x=0\n",
        "y=0\n",
        "while True:\n",
        "    i=input(\"Enter direction L(left),R(Right),U(Up),D(Down):\")\n",
        "    if(i=='L'or i=='l'):\n",
        "        x=x-1\n",
        "        print(\"x:%d y:%d\" %(x,y))\n",
        "        if(x==4 and y == 4):\n",
        "            print(\"Reached end\")\n",
        "        else:\n",
        "            print(\"Not Reached\")\n",
        "        inp=input(\"enter 1 to exit\")\n",
        "        inp=int(inp)\n",
        "\n",
        "\n",
        "    elif(i=='R'or i=='r'):\n",
        "        x=x+1\n",
        "        print(\"x:%d y:%d\" %(x,y))\n",
        "        if(x==4 and y == 4):\n",
        "            print(\"Reached end\")\n",
        "        else:\n",
        "            print(\"Not Reached\")\n",
        "        inp=input(\"enter 1 to exit\")\n",
        "        inp=int(inp)\n",
        "\n",
        "    elif(i=='U'or i=='u'):\n",
        "        y=y+1\n",
        "        print(\"x:%d y:%d\" %(x,y))\n",
        "        if(x==4 and y == 4):\n",
        "            print(\"Reached end\")\n",
        "        else:\n",
        "            print(\"Not Reached\")\n",
        "        inp=input(\"enter 1 to exit\")\n",
        "        inp=int(inp)\n",
        "\n",
        "    elif(i=='D'or i=='d'):\n",
        "        y=y-1\n",
        "        print(\"x:%d y:%d\" %(x,y))\n",
        "        if(x==4 and y == 4):\n",
        "            print(\"Reached end\")\n",
        "        else:\n",
        "            print(\"Not Reached\")\n",
        "        inp=input(\"enter 1 to exit\")\n",
        "        inp=int(inp)\n",
        "    if(inp==1):\n",
        "        break"
      ],
      "execution_count": 0,
      "outputs": [
        {
          "output_type": "stream",
          "text": [
            "Enter direction L(left),R(Right),U(Up),D(Down):l\n",
            "x:-1 y:0\n",
            "Not Reached\n",
            "enter 1 to exit1\n"
          ],
          "name": "stdout"
        }
      ]
    },
    {
      "cell_type": "code",
      "metadata": {
        "id": "tIQdAW-v6Ul-",
        "colab_type": "code",
        "colab": {}
      },
      "source": [
        ""
      ],
      "execution_count": 0,
      "outputs": []
    },
    {
      "cell_type": "code",
      "metadata": {
        "id": "kO4p3AMc6UmF",
        "colab_type": "code",
        "colab": {}
      },
      "source": [
        "ASA"
      ],
      "execution_count": 0,
      "outputs": []
    },
    {
      "cell_type": "code",
      "metadata": {
        "id": "xOiuJZJl6UmL",
        "colab_type": "code",
        "colab": {}
      },
      "source": [
        ""
      ],
      "execution_count": 0,
      "outputs": []
    },
    {
      "cell_type": "code",
      "metadata": {
        "id": "LZmTd2Vf6UmQ",
        "colab_type": "code",
        "colab": {}
      },
      "source": [
        ""
      ],
      "execution_count": 0,
      "outputs": []
    },
    {
      "cell_type": "code",
      "metadata": {
        "id": "rMIuBDub6UmW",
        "colab_type": "code",
        "colab": {}
      },
      "source": [
        ""
      ],
      "execution_count": 0,
      "outputs": []
    }
  ]
}