{
  "nbformat": 4,
  "nbformat_minor": 0,
  "metadata": {
    "colab": {
      "name": "assignment3.ipynb",
      "provenance": [],
      "authorship_tag": "ABX9TyOEE3kEIyvVb2gjxQScM97Y",
      "include_colab_link": true
    },
    "kernelspec": {
      "name": "python3",
      "display_name": "Python 3"
    }
  },
  "cells": [
    {
      "cell_type": "markdown",
      "metadata": {
        "id": "view-in-github",
        "colab_type": "text"
      },
      "source": [
        "<a href=\"https://colab.research.google.com/github/ElRey10/new/blob/master/pythonnote3.ipynb\" target=\"_parent\"><img src=\"https://colab.research.google.com/assets/colab-badge.svg\" alt=\"Open In Colab\"/></a>"
      ]
    },
    {
      "cell_type": "code",
      "metadata": {
        "id": "RvhLLcycrV4i",
        "colab_type": "code",
        "outputId": "88db1ee0-67f7-44ac-95cd-d117d440e5c7",
        "colab": {
          "base_uri": "https://localhost:8080/",
          "height": 34
        }
      },
      "source": [
        "#day3 assignment\n",
        "a=[1,5,6,4,1,2,3,5]\n",
        "#a=[1,5,6,5,1,2,3,6] #its gone array \n",
        "b=[1,1,5]\n",
        "j=0\n",
        "c=[]\n",
        "for i in range(len(a)):\n",
        "    if(a[i]==b[j]):\n",
        "        c.append(a[i])\n",
        "        j=j+1\n",
        "if(c==b):\n",
        "    print(\"it's a Match\")\n",
        "else:\n",
        "    print(\"it's Gone\")\n",
        "       "
      ],
      "execution_count": 0,
      "outputs": [
        {
          "output_type": "stream",
          "text": [
            "it's a Match\n"
          ],
          "name": "stdout"
        }
      ]
    }
  ]
}